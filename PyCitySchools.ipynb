{
 "cells": [
  {
   "cell_type": "code",
   "execution_count": null,
   "id": "06fcffb1",
   "metadata": {},
   "outputs": [],
   "source": [
    "# Add the Pandas dependency\n",
    "import pandas as pd\n",
    "import os\n",
    "\n",
    "# Files to load\n",
    "school_data_to_load = os.path.join(\"Resources\", \"schools_complete.csv\")\n",
    "student_data_to_load = os.path.join(\"Resources\", \"students_complete.csv\")\n",
    "\n",
    "# Read the school data file and store it in a Pandas DataFrame.\n",
    "school_data_df = pd.read_csv(school_data_to_load)\n",
    "school_data_df"
   ]
  },
  {
   "cell_type": "code",
   "execution_count": null,
   "id": "0a00c1bd",
   "metadata": {},
   "outputs": [],
   "source": [
    "# Read the student data file and store it in a Pandas DataFrame\n",
    "student_data_df = pd.read_csv(student_data_to_load)\n",
    "student_data_df"
   ]
  },
  {
   "cell_type": "code",
   "execution_count": null,
   "id": "4b96f327",
   "metadata": {},
   "outputs": [],
   "source": [
    "# Determine if there are any missing values in the school data.\n",
    "school_data_df.count()"
   ]
  },
  {
   "cell_type": "code",
   "execution_count": null,
   "id": "5a24f6b5",
   "metadata": {},
   "outputs": [],
   "source": [
    "# Determine if there are any missing values in the student data.\n",
    "student_data_df.count()"
   ]
  },
  {
   "cell_type": "code",
   "execution_count": null,
   "id": "2028d288",
   "metadata": {},
   "outputs": [],
   "source": [
    "# Determine if there are any missing values in the school data.\n",
    "school_data_df.isnull()"
   ]
  },
  {
   "cell_type": "code",
   "execution_count": null,
   "id": "e6a4de9a",
   "metadata": {},
   "outputs": [],
   "source": [
    "# Determine if there are any missing values in the student data.\n",
    "student_data_df.isnull().sum()"
   ]
  },
  {
   "cell_type": "code",
   "execution_count": null,
   "id": "2395f2d7",
   "metadata": {},
   "outputs": [],
   "source": [
    "# Determine if there are not any missing values in the student data.\n",
    "student_data_df.notnull().sum()"
   ]
  },
  {
   "cell_type": "code",
   "execution_count": null,
   "id": "7b8656f6",
   "metadata": {},
   "outputs": [],
   "source": [
    "# Determine data types for the school DataFrame.\n",
    "school_data_df.dtypes"
   ]
  },
  {
   "cell_type": "code",
   "execution_count": null,
   "id": "47ccb5a7",
   "metadata": {},
   "outputs": [],
   "source": [
    "# Determine data types for the student DataFrame.\n",
    "student_data_df.dtypes"
   ]
  },
  {
   "cell_type": "code",
   "execution_count": null,
   "id": "d06c6181",
   "metadata": {},
   "outputs": [],
   "source": [
    "# Add each prefix and suffix to remove to a list\n",
    "prefixes_suffixes = [\"Dr. \", \"Mr. \", \"Ms. \", \"Mrs. \", \"Miss \", \" MD\", \" DDS\", \" DVM\", \" PhD\"]\n",
    "\n",
    "for word in prefixes_suffixes:\n",
    "    student_data_df[\"student_name\"] = student_data_df[\"student_name\"].str.replace(word,\"\")\n",
    "    \n",
    "student_data_df"
   ]
  },
  {
   "cell_type": "code",
   "execution_count": null,
   "id": "7475d834",
   "metadata": {},
   "outputs": [],
   "source": [
    "# Add the Pandas dependency\n",
    "import pandas as pd\n",
    "\n",
    "# Combine the data into a single dataset.\n",
    "\n",
    "school_data_complete_df = pd.merge(student_data_df, school_data_df, on=[\"school_name\", \"school_name\"])\n",
    "school_data_complete_df"
   ]
  },
  {
   "cell_type": "code",
   "execution_count": null,
   "id": "2aaa9ec0",
   "metadata": {},
   "outputs": [],
   "source": [
    "# Get the total number of students.\n",
    "\n",
    "student_count = school_data_complete_df[\"Student ID\"].count()\n",
    "student_count"
   ]
  },
  {
   "cell_type": "code",
   "execution_count": null,
   "id": "7b64eeb2",
   "metadata": {},
   "outputs": [],
   "source": [
    "# Calculate the total number of schools.\n",
    "\n",
    "school_count = school_data_df[\"school_name\"].count()\n",
    "school_count\n",
    "\n",
    "school_count_2 = len(school_data_complete_df[\"school_name\"].unique())\n",
    "school_count_2"
   ]
  },
  {
   "cell_type": "code",
   "execution_count": null,
   "id": "f17c09c8",
   "metadata": {},
   "outputs": [],
   "source": [
    "# Calculate the total budget.\n",
    "\n",
    "total_budget = school_data_df[\"budget\"].sum()\n",
    "total_budget"
   ]
  },
  {
   "cell_type": "code",
   "execution_count": null,
   "id": "b04870cd",
   "metadata": {},
   "outputs": [],
   "source": [
    "# Calculate the average reading score.\n",
    "\n",
    "average_reading_score = school_data_complete_df[\"reading_score\"].mean()\n",
    "average_reading_score"
   ]
  },
  {
   "cell_type": "code",
   "execution_count": null,
   "id": "f32495d7",
   "metadata": {},
   "outputs": [],
   "source": [
    "# Calculate the average math score.\n",
    "\n",
    "average_math_score = school_data_complete_df[\"math_score\"].mean()\n",
    "\n",
    "average_math_score"
   ]
  },
  {
   "cell_type": "code",
   "execution_count": null,
   "id": "e23172c9",
   "metadata": {},
   "outputs": [],
   "source": [
    "passing_math = school_data_complete_df[\"math_score\"] >= 70\n",
    "passing_reading = school_data_complete_df[\"reading_score\"] >= 70"
   ]
  },
  {
   "cell_type": "code",
   "execution_count": null,
   "id": "f6b051f8",
   "metadata": {},
   "outputs": [],
   "source": [
    "# Get all the students who are passing math in a new DataFrame.\n",
    "\n",
    "passing_math = school_data_complete_df[school_data_complete_df[\"math_score\"] >= 70]\n",
    "passing_math.head()"
   ]
  },
  {
   "cell_type": "code",
   "execution_count": null,
   "id": "afb0696f",
   "metadata": {},
   "outputs": [],
   "source": [
    "# Get all the students that are passing in a new DataFrame.\n",
    "\n",
    "passing_reading = school_data_complete_df[school_data_complete_df[\"reading_score\"] >= 70]\n",
    "passing_reading"
   ]
  },
  {
   "cell_type": "code",
   "execution_count": null,
   "id": "66a37b54",
   "metadata": {},
   "outputs": [],
   "source": [
    "# Calculate the number of students passing math.\n",
    "\n",
    "passing_math_count = passing_math[\"student_name\"].count()\n",
    "\n",
    "#Calculate the numnber od students passing reading.\n",
    "\n",
    "passing_reading_count = passing_reading[\"student_name\"].count()\n",
    "\n",
    "print(passing_math_count)\n",
    "print(passing_reading_count)"
   ]
  },
  {
   "cell_type": "code",
   "execution_count": null,
   "id": "0e64cf7d",
   "metadata": {},
   "outputs": [],
   "source": [
    "# Calculate the percent that passed math.\n",
    "passing_math_percentage = passing_math_count / float(student_count) * 100\n",
    "\n",
    "# Calculate the percent that passed reading.\n",
    "passing_reading_percentage = passing_reading_count / float(student_count) * 100\n",
    "\n",
    "print(passing_math_percentage)\n",
    "print(passing_reading_percentage)"
   ]
  },
  {
   "cell_type": "code",
   "execution_count": null,
   "id": "c39493e0",
   "metadata": {},
   "outputs": [],
   "source": [
    "# Calculate the student who passed both math and reading.\n",
    "passing_math_reading = school_data_complete_df[(school_data_complete_df[\"math_score\"] >= 70) & (school_data_complete_df[\"reading_score\"] >= 70)]\n",
    "\n",
    "passing_math_reading.head()"
   ]
  },
  {
   "cell_type": "code",
   "execution_count": null,
   "id": "e59f9919",
   "metadata": {},
   "outputs": [],
   "source": [
    "# Calculate the number of students who passed both math and reading.\n",
    "\n",
    "overall_passing_math_reading_count = passing_math_reading[\"student_name\"].count()\n",
    "\n",
    "overall_passing_math_reading_count"
   ]
  },
  {
   "cell_type": "code",
   "execution_count": null,
   "id": "ba4db91f",
   "metadata": {},
   "outputs": [],
   "source": [
    "# Calculate the overall passing percentage.\n",
    "\n",
    "overall_passing_percentage = overall_passing_math_reading_count / student_count * 100\n",
    "\n",
    "overall_passing_percentage"
   ]
  },
  {
   "cell_type": "code",
   "execution_count": null,
   "id": "15834503",
   "metadata": {},
   "outputs": [],
   "source": [
    "# Adding a list of values with keys to create a new DataFrame.\n",
    "\n",
    "district_summary_df = pd.DataFrame(\n",
    "    [{\"Total Schools\": school_count, \"Total Students\": student_count, \"Total Budget\": total_budget, \n",
    "     \"Average Math Score\": average_math_score, \"Average Reading Score\": average_reading_score, \"% Passing Math\": passing_math_percentage,\n",
    "     \"% Passing Reading\": passing_reading_percentage, \"% Overall Passing\": overall_passing_percentage}])\n",
    "\n",
    "district_summary_df"
   ]
  },
  {
   "cell_type": "code",
   "execution_count": null,
   "id": "36860d74",
   "metadata": {},
   "outputs": [],
   "source": [
    "# Define a function that calculates the percentage of students that passed both\n",
    "# math and reading and returns the passing percentage when the function is called.\n",
    "\n",
    "def passing_math_percentage(pass_math_count, student_count):\n",
    "    return pass_math_count / float(student_count) * 100"
   ]
  },
  {
   "cell_type": "code",
   "execution_count": null,
   "id": "01162863",
   "metadata": {},
   "outputs": [],
   "source": [
    "passing_math_count = 29370\n",
    "\n",
    "total_student_count = 39170\n",
    "\n",
    "# Call the function.\n",
    "passing_math_percentage(passing_math_count, total_student_count)"
   ]
  },
  {
   "cell_type": "code",
   "execution_count": null,
   "id": "5d4dbb69",
   "metadata": {},
   "outputs": [],
   "source": [
    "# Format the columns of the 'district summary DataFrame'\n",
    "district_summary_df[\"Total Students\"] = district_summary_df[\"Total Students\"].map(\"{:,}\".format)\n",
    "\n",
    "district_summary_df[\"Total Budget\"] = district_summary_df[\"Total Budget\"].map(\"${:,.2f}\".format)\n",
    "\n",
    "district_summary_df[\"Average Math Score\"] = district_summary_df[\"Average Math Score\"].map(\"{:.1f}\".format)\n",
    "\n",
    "district_summary_df[\"Average Reading Score\"] = district_summary_df[\"Average Reading Score\"].map(\"{:.1f}\".format)\n",
    "\n",
    "district_summary_df[\"% Passing Math\"] = district_summary_df[\"% Passing Math\"].map(\"{:.0f}\".format)\n",
    "\n",
    "district_summary_df[\"% Passing Reading\"] = district_summary_df[\"% Passing Reading\"].map(\"{:.0f}\".format)\n",
    "\n",
    "district_summary_df[\"% Overall Passing\"] = district_summary_df[\"% Overall Passing\"].map(\"{:.0f}\".format)\n",
    "\n",
    "district_summary_df"
   ]
  },
  {
   "cell_type": "code",
   "execution_count": null,
   "id": "4150355c",
   "metadata": {},
   "outputs": [],
   "source": [
    "# Reorder the columns in the order you want them to appear.\n",
    "new_column_order = [\"Total Schools\", \"Total Students\", \"Total Budget\", \"Average Math Score\", \"Average Reading Score\", \"% Passing Math\", \"% Passing Reading\", \"% Overall Passing\"]\n",
    "\n",
    "# Assign district summary df the new column order.\n",
    "district_summary_df = district_summary_df[new_column_order]\n",
    "\n",
    "district_summary_df"
   ]
  },
  {
   "cell_type": "code",
   "execution_count": null,
   "id": "ef6298aa",
   "metadata": {},
   "outputs": [],
   "source": [
    "# Determine the school type.\n",
    "per_school_types = school_data_df.set_index([\"school_name\"])[\"type\"]\n",
    "\n",
    "per_school_types\n",
    "\n",
    "# Add the per_school_types into a DataFrame for testing.\n",
    "\n",
    "df = pd.DataFrame(per_school_types)\n",
    "\n",
    "df"
   ]
  },
  {
   "cell_type": "code",
   "execution_count": 315,
   "id": "57362c1c",
   "metadata": {},
   "outputs": [
    {
     "data": {
      "text/plain": [
       "Bailey High School       4976\n",
       "Johnson High School      4761\n",
       "Hernandez High School    4635\n",
       "Rodriguez High School    3999\n",
       "Figueroa High School     2949\n",
       "Huang High School        2917\n",
       "Ford High School         2739\n",
       "Wilson High School       2283\n",
       "Cabrera High School      1858\n",
       "Wright High School       1800\n",
       "Shelton High School      1761\n",
       "Thomas High School       1635\n",
       "Griffin High School      1468\n",
       "Pena High School          962\n",
       "Holden High School        427\n",
       "Name: school_name, dtype: int64"
      ]
     },
     "execution_count": 315,
     "metadata": {},
     "output_type": "execute_result"
    }
   ],
   "source": [
    "# Calculate the total student count.\n",
    "per_school_counts = school_data_df.set_index([\"school_name\"])[\"size\"]\n",
    "\n",
    "# Calculate the total student count.\n",
    "per_school_counts = school_data_complete_df[\"school_name\"].value_counts()\n",
    "\n",
    "per_school_counts"
   ]
  },
  {
   "cell_type": "code",
   "execution_count": null,
   "id": "c29bb27c",
   "metadata": {},
   "outputs": [],
   "source": [
    "# Calculate the total school budget.\n",
    "per_school_budget = school_data_df.set_index([\"school_name\"])[\"budget\"]\n",
    "\n",
    "# Calculate the per capita spending.\n",
    "per_school_capita = per_school_budget / per_school_counts\n",
    "\n",
    "per_school_capita"
   ]
  },
  {
   "cell_type": "code",
   "execution_count": null,
   "id": "d8e59f6e",
   "metadata": {},
   "outputs": [],
   "source": [
    "# Calculate the math scores.\n",
    "student_school_math = student_data_df.set_index([\"school_name\"])[\"math_score\"]\n",
    "\n",
    "# Calculate the average math scores.\n",
    "per_school_averages = school_data_complete_df.groupby([\"school_name\"]).mean()\n",
    "\n",
    "# Calculate the average test scores \n",
    "per_school_math = school_data_complete_df.groupby([\"school_name\"]).mean()[\"math_score\"]\n",
    "\n",
    "per_school_reading = school_data_complete_df.groupby([\"school_name\"]).mean()[\"reading_score\"]\n",
    "\n",
    "print(per_school_reading)\n",
    "print(per_school_math)"
   ]
  },
  {
   "cell_type": "code",
   "execution_count": null,
   "id": "c52640c4",
   "metadata": {},
   "outputs": [],
   "source": [
    "# Calculate the passing scores by creating a filtered DataFrame.\n",
    "per_school_passing_math = school_data_complete_df[(school_data_complete_df[\"math_score\"] >= 70)]\n",
    "\n",
    "per_school_passing_reading = school_data_complete_df[(school_data_complete_df[\"reading_score\"] >= 70)]\n",
    "\n",
    "# Calculate the number of students passing math and passing reading by school.\n",
    "per_school_passing_math = per_school_passing_math.groupby([\"school_name\"]).count()[\"student_name\"]\n",
    "\n",
    "per_school_passing_reading = per_school_passing_reading.groupby([\"school_name\"]).count()[\"student_name\"]\n",
    "\n",
    "# Calculate the percentage of passing math and reading scores per school.\n",
    "per_school_passing_math = per_school_passing_math / per_school_counts * 100\n",
    "\n",
    "per_school_passing_reading = per_school_passing_reading / per_school_counts * 100"
   ]
  },
  {
   "cell_type": "code",
   "execution_count": null,
   "id": "437ea645",
   "metadata": {},
   "outputs": [],
   "source": [
    "# Calculate the students who passed both math and reading.\n",
    "per_passing_math_reading = school_data_complete_df[(school_data_complete_df[\"math_score\"] >= 70) & (school_data_complete_df[\"reading_score\"] >= 70)]\n",
    "\n",
    "per_passing_math_reading.head()\n",
    "\n",
    "# Calculate the number of students who passed both math and reading.\n",
    "per_passing_math_reading = per_passing_math_reading.groupby([\"school_name\"]).count()[\"student_name\"]\n",
    "\n",
    "# Calculate the overall passing percentage.\n",
    "per_overall_passing_percentage = per_passing_math_reading / per_school_counts * 100"
   ]
  },
  {
   "cell_type": "code",
   "execution_count": null,
   "id": "f8b6a30c",
   "metadata": {},
   "outputs": [],
   "source": [
    "# Adding a list of values with keys to create a new DataFrame.\n",
    "\n",
    "per_school_summary_df = pd.DataFrame({\n",
    "    \"School Type\": per_school_types, \"Total Students\": per_school_counts,\n",
    "    \"Total School Budget\": per_school_budget, \"Per Student Budget\": per_school_capita,\n",
    "    \"Average Math Score\": per_school_math, \"Average Reading Score\": per_school_reading,\n",
    "    \"% Passing Math\": per_school_passing_math, \"% Passing Reading\": per_school_passing_reading,\n",
    "    \"% Overall Passing\": per_overall_passing_percentage})\n",
    "\n",
    "per_school_summary_df.head()"
   ]
  },
  {
   "cell_type": "code",
   "execution_count": null,
   "id": "06ff6a9c",
   "metadata": {},
   "outputs": [],
   "source": [
    "# Format the Total School Budget and the Per Student Budget columns.\n",
    "per_school_summary_df[\"Total School Budget\"] = per_school_summary_df[\"Total School Budget\"].map(\"${:,.2f}\".format)\n",
    "\n",
    "per_school_summary_df[\"Per Student Budget\"] = per_school_summary_df[\"Per Student Budget\"].map(\"${:,.2f}\".format)\n",
    "\n",
    "# Display the data frame\n",
    "per_school_summary_df.head()\n",
    "\n",
    "# Reorder the columns in the order you want them to appear.\n",
    "new_column_order = [\"School Type\", \"Total Students\", \"Total School Budget\", \"Per Student Budget\", \"Average Math Score\", \"Average Reading Score\", \"% Passing Math\", \"% Passing Reading\", \"% Overall Passing\"]\n",
    "\n",
    "# Assign district summary df the new column order. \n",
    "per_school_summary_df = per_school_summary_df[new_column_order]\n",
    "\n",
    "per_school_summary_df"
   ]
  },
  {
   "cell_type": "code",
   "execution_count": null,
   "id": "aae0410f",
   "metadata": {},
   "outputs": [],
   "source": [
    "# Sort and show top five schools.\n",
    "top_schools = per_school_summary_df.sort_values([\"% Overall Passing\"], ascending=False)\n",
    "\n",
    "top_schools.head()"
   ]
  },
  {
   "cell_type": "code",
   "execution_count": null,
   "id": "93ff4374",
   "metadata": {},
   "outputs": [],
   "source": [
    "# Sort and show top five schools.\n",
    "bottom_schools = per_school_summary_df.sort_values([\"% Overall Passing\"], ascending=True)\n",
    "\n",
    "bottom_schools.head()"
   ]
  },
  {
   "cell_type": "code",
   "execution_count": null,
   "id": "0cdd8b7c",
   "metadata": {},
   "outputs": [],
   "source": [
    "# Create a grade level DataFrames.\n",
    "ninth_graders = school_data_complete_df[(school_data_complete_df[\"grade\"] == \"9th\")]\n",
    "\n",
    "tenth_graders = school_data_complete_df[(school_data_complete_df[\"grade\"] == \"10th\")]\n",
    "\n",
    "eleventh_graders = school_data_complete_df[(school_data_complete_df[\"grade\"] == \"11th\")]\n",
    "\n",
    "twelfth_graders = school_data_complete_df[(school_data_complete_df[\"grade\"] == \"12th\")]"
   ]
  },
  {
   "cell_type": "code",
   "execution_count": null,
   "id": "09feefde",
   "metadata": {},
   "outputs": [],
   "source": [
    "# Group each grade level DataFrame by the school name for the average math score.\n",
    "ninth_grade_math_scores = ninth_graders.groupby([\"school_name\"]).mean()[\"math_score\"]\n",
    "\n",
    "tenth_grade_math_scores = tenth_graders.groupby([\"school_name\"]).mean()[\"math_score\"]\n",
    "\n",
    "eleventh_grade_math_scores = eleventh_graders.groupby([\"school_name\"]).mean()[\"math_score\"]\n",
    "\n",
    "twelfth_grade_math_scores = twelfth_graders.groupby([\"school_name\"]).mean()[\"math_score\"]"
   ]
  },
  {
   "cell_type": "code",
   "execution_count": null,
   "id": "ddafeaf8",
   "metadata": {},
   "outputs": [],
   "source": [
    "# Group each grade level DataFrame by the school name for the average math score.\n",
    "ninth_grade_reading_scores = ninth_graders.groupby([\"school_name\"]).mean()[\"reading_score\"]\n",
    "\n",
    "tenth_grade_reading_scores = tenth_graders.groupby([\"school_name\"]).mean()[\"reading_score\"]\n",
    "\n",
    "eleventh_grade_reading_scores = eleventh_graders.groupby([\"school_name\"]).mean()[\"reading_score\"]\n",
    "\n",
    "twelfth_grade_reading_scores = twelfth_graders.groupby([\"school_name\"]).mean()[\"reading_score\"]"
   ]
  },
  {
   "cell_type": "code",
   "execution_count": null,
   "id": "6b46ac20",
   "metadata": {},
   "outputs": [],
   "source": [
    "# Combine each grade level Series for average math scores by school into a single DataFrame.\n",
    "math_scores_by_grade = pd.DataFrame ({\n",
    "    \"9th\": ninth_grade_math_scores, \"10th\": tenth_grade_math_scores,\n",
    "    \"11th\": eleventh_grade_math_scores, \"12th\": twelfth_grade_math_scores})\n",
    "\n",
    "math_scores_by_grade.head()"
   ]
  },
  {
   "cell_type": "code",
   "execution_count": null,
   "id": "e9137c10",
   "metadata": {},
   "outputs": [],
   "source": [
    "# Combine each grade level Series for average reading scores by school into a single DataFrame.\n",
    "reading_scores_by_grade = pd.DataFrame({\n",
    "    \"9th\": ninth_grade_reading_scores, \"10th\": tenth_grade_reading_scores,\n",
    "    \"11th\": eleventh_grade_reading_scores, \"12th\": twelfth_grade_reading_scores})\n",
    "\n",
    "reading_scores_by_grade.head()"
   ]
  },
  {
   "cell_type": "code",
   "execution_count": null,
   "id": "18fffbb9",
   "metadata": {},
   "outputs": [],
   "source": [
    "# Foramt each grade column.\n",
    "math_scores_by_grade[\"9th\"] = math_scores_by_grade[\"9th\"].map(\"{:.1f}\".format)\n",
    "\n",
    "math_scores_by_grade[\"10th\"] = math_scores_by_grade[\"10th\"].map(\"{:.1f}\".format)\n",
    "\n",
    "math_scores_by_grade[\"11th\"] = math_scores_by_grade[\"11th\"].map(\"{:.1f}\".format)\n",
    "\n",
    "math_scores_by_grade[\"12th\"] = math_scores_by_grade[\"12th\"].map(\"{:.1f}\".format)\n",
    "\n",
    "# Make sure the columns are in the correct order.\n",
    "math_scores_by_grade = math_scores_by_grade[[\"9th\", \"10th\", \"11th\", \"12th\"]]\n",
    "\n",
    "# Remove the index name.\n",
    "math_scores_by_grade.index.name = None\n",
    "\n",
    "# Display the DataFrame.\n",
    "math_scores_by_grade.head()"
   ]
  },
  {
   "cell_type": "code",
   "execution_count": null,
   "id": "b5cfac3d",
   "metadata": {},
   "outputs": [],
   "source": [
    "# Foramt each grade column.\n",
    "reading_scores_by_grade[\"9th\"] = reading_scores_by_grade[\"9th\"].map(\"{:.1f}\".format)\n",
    "\n",
    "reading_scores_by_grade[\"10th\"] = reading_scores_by_grade[\"10th\"].map(\"{:.1f}\".format)\n",
    "\n",
    "reading_scores_by_grade[\"11th\"] = reading_scores_by_grade[\"11th\"].map(\"{:.1f}\".format)\n",
    "\n",
    "reading_scores_by_grade[\"12th\"] = reading_scores_by_grade[\"12th\"].map(\"{:.1f}\".format)\n",
    "\n",
    "# Make sure the columns are in the correct order.\n",
    "reading_scores_by_grade = reading_scores_by_grade[[\"9th\", \"10th\", \"11th\", \"12th\"]]\n",
    "\n",
    "# Remove the index name.\n",
    "reading_scores_by_grade.index.name = None\n",
    "\n",
    "# Display the DataFrame.\n",
    "reading_scores_by_grade.head()"
   ]
  },
  {
   "cell_type": "code",
   "execution_count": null,
   "id": "f0bf369f",
   "metadata": {},
   "outputs": [],
   "source": [
    "# Get the descriptive statistics for the per_school_capita.\n",
    "per_school_capita.describe()\n",
    "\n",
    "# Cut the per_school_capita into the spending ranges.\n",
    "spending_bins = [0, 585, 630, 645, 675]\n",
    "\n",
    "pd.cut(per_school_capita, spending_bins)\n",
    "\n",
    "per_school_capita.groupby(pd.cut(per_school_capita, spending_bins)).count()"
   ]
  },
  {
   "cell_type": "code",
   "execution_count": null,
   "id": "3b96761c",
   "metadata": {},
   "outputs": [],
   "source": [
    "# Establish the spending bins and group names.\n",
    "spending_bins = [0, 585, 630, 645, 675]\n",
    "\n",
    "group_names = [\"<$586\", \"$586-630\", \"$631-645\", \"$646-675\"]"
   ]
  },
  {
   "cell_type": "code",
   "execution_count": null,
   "id": "1ff659e0",
   "metadata": {},
   "outputs": [],
   "source": [
    "# Categorize spending based on the bins.\n",
    "per_school_summary_df[\"Spending Ranges (Per Student)\"] = pd.cut(per_school_capita, spending_bins, labels=group_names)\n",
    "\n",
    "per_school_summary_df"
   ]
  },
  {
   "cell_type": "code",
   "execution_count": null,
   "id": "5e9620ff",
   "metadata": {},
   "outputs": [],
   "source": [
    "# Calculate averages for the desired columns\n",
    "spending_math_scores = per_school_summary_df.groupby([\"Spending Ranges (Per Student)\"]).mean()[\"Average Math Score\"]\n",
    "\n",
    "spending_reading_scores = per_school_summary_df.groupby([\"Spending Ranges (Per Student)\"]).mean()[\"Average Reading Score\"]\n",
    "\n",
    "spending_passing_math = per_school_summary_df.groupby([\"Spending Ranges (Per Student)\"]).mean()[\"% Passing Math\"]\n",
    "\n",
    "spending_passing_reading = per_school_summary_df.groupby([\"Spending Ranges (Per Student)\"]).mean()[\"% Passing Reading\"]\n",
    "\n",
    "overall_passing_spending = per_school_summary_df.groupby([\"Spending Ranges (Per Student)\"]).mean()[\"% Overall Passing\"]\n",
    "\n",
    "spending_passing_spending"
   ]
  },
  {
   "cell_type": "code",
   "execution_count": 313,
   "id": "dad868d6",
   "metadata": {},
   "outputs": [
    {
     "data": {
      "text/html": [
       "<div>\n",
       "<style scoped>\n",
       "    .dataframe tbody tr th:only-of-type {\n",
       "        vertical-align: middle;\n",
       "    }\n",
       "\n",
       "    .dataframe tbody tr th {\n",
       "        vertical-align: top;\n",
       "    }\n",
       "\n",
       "    .dataframe thead th {\n",
       "        text-align: right;\n",
       "    }\n",
       "</style>\n",
       "<table border=\"1\" class=\"dataframe\">\n",
       "  <thead>\n",
       "    <tr style=\"text-align: right;\">\n",
       "      <th></th>\n",
       "      <th>Average Math Score</th>\n",
       "      <th>Average Reading Score</th>\n",
       "      <th>% Passing Math</th>\n",
       "      <th>% Passing Reading</th>\n",
       "      <th>% Overall Passing</th>\n",
       "    </tr>\n",
       "    <tr>\n",
       "      <th>Spending Ranges (Per Student)</th>\n",
       "      <th></th>\n",
       "      <th></th>\n",
       "      <th></th>\n",
       "      <th></th>\n",
       "      <th></th>\n",
       "    </tr>\n",
       "  </thead>\n",
       "  <tbody>\n",
       "    <tr>\n",
       "      <th>&lt;$586</th>\n",
       "      <td>83.455399</td>\n",
       "      <td>83.933814</td>\n",
       "      <td>93.460096</td>\n",
       "      <td>96.610877</td>\n",
       "      <td>90.369459</td>\n",
       "    </tr>\n",
       "    <tr>\n",
       "      <th>$586-630</th>\n",
       "      <td>81.899826</td>\n",
       "      <td>83.155286</td>\n",
       "      <td>87.133538</td>\n",
       "      <td>92.718205</td>\n",
       "      <td>81.418596</td>\n",
       "    </tr>\n",
       "    <tr>\n",
       "      <th>$631-645</th>\n",
       "      <td>78.518855</td>\n",
       "      <td>81.624473</td>\n",
       "      <td>73.484209</td>\n",
       "      <td>84.391793</td>\n",
       "      <td>62.857656</td>\n",
       "    </tr>\n",
       "    <tr>\n",
       "      <th>$646-675</th>\n",
       "      <td>76.997210</td>\n",
       "      <td>81.027843</td>\n",
       "      <td>66.164813</td>\n",
       "      <td>81.133951</td>\n",
       "      <td>53.526855</td>\n",
       "    </tr>\n",
       "  </tbody>\n",
       "</table>\n",
       "</div>"
      ],
      "text/plain": [
       "                               Average Math Score  Average Reading Score  \\\n",
       "Spending Ranges (Per Student)                                              \n",
       "<$586                                   83.455399              83.933814   \n",
       "$586-630                                81.899826              83.155286   \n",
       "$631-645                                78.518855              81.624473   \n",
       "$646-675                                76.997210              81.027843   \n",
       "\n",
       "                               % Passing Math  % Passing Reading  \\\n",
       "Spending Ranges (Per Student)                                      \n",
       "<$586                               93.460096          96.610877   \n",
       "$586-630                            87.133538          92.718205   \n",
       "$631-645                            73.484209          84.391793   \n",
       "$646-675                            66.164813          81.133951   \n",
       "\n",
       "                               % Overall Passing  \n",
       "Spending Ranges (Per Student)                     \n",
       "<$586                                  90.369459  \n",
       "$586-630                               81.418596  \n",
       "$631-645                               62.857656  \n",
       "$646-675                               53.526855  "
      ]
     },
     "execution_count": 313,
     "metadata": {},
     "output_type": "execute_result"
    }
   ],
   "source": [
    "# Assemble into DataFrame.\n",
    "spending_summary_df = pd.DataFrame({\n",
    "    \"Average Math Score\": spending_math_scores, \"Average Reading Score\": spending_reading_scores,\n",
    "    \"% Passing Math\": spending_passing_math, \"% Passing Reading\": spending_passing_reading,\n",
    "    \"% Overall Passing\": overall_passing_spending})\n",
    "\n",
    "spending_summary_df"
   ]
  },
  {
   "cell_type": "code",
   "execution_count": 314,
   "id": "d3aef82f",
   "metadata": {},
   "outputs": [
    {
     "data": {
      "text/html": [
       "<div>\n",
       "<style scoped>\n",
       "    .dataframe tbody tr th:only-of-type {\n",
       "        vertical-align: middle;\n",
       "    }\n",
       "\n",
       "    .dataframe tbody tr th {\n",
       "        vertical-align: top;\n",
       "    }\n",
       "\n",
       "    .dataframe thead th {\n",
       "        text-align: right;\n",
       "    }\n",
       "</style>\n",
       "<table border=\"1\" class=\"dataframe\">\n",
       "  <thead>\n",
       "    <tr style=\"text-align: right;\">\n",
       "      <th></th>\n",
       "      <th>Average Math Score</th>\n",
       "      <th>Average Reading Score</th>\n",
       "      <th>% Passing Math</th>\n",
       "      <th>% Passing Reading</th>\n",
       "      <th>% Overall Passing</th>\n",
       "    </tr>\n",
       "    <tr>\n",
       "      <th>Spending Ranges (Per Student)</th>\n",
       "      <th></th>\n",
       "      <th></th>\n",
       "      <th></th>\n",
       "      <th></th>\n",
       "      <th></th>\n",
       "    </tr>\n",
       "  </thead>\n",
       "  <tbody>\n",
       "    <tr>\n",
       "      <th>&lt;$586</th>\n",
       "      <td>83.5</td>\n",
       "      <td>83.9</td>\n",
       "      <td>93</td>\n",
       "      <td>97</td>\n",
       "      <td>90</td>\n",
       "    </tr>\n",
       "    <tr>\n",
       "      <th>$586-630</th>\n",
       "      <td>81.9</td>\n",
       "      <td>83.2</td>\n",
       "      <td>87</td>\n",
       "      <td>93</td>\n",
       "      <td>81</td>\n",
       "    </tr>\n",
       "    <tr>\n",
       "      <th>$631-645</th>\n",
       "      <td>78.5</td>\n",
       "      <td>81.6</td>\n",
       "      <td>73</td>\n",
       "      <td>84</td>\n",
       "      <td>63</td>\n",
       "    </tr>\n",
       "    <tr>\n",
       "      <th>$646-675</th>\n",
       "      <td>77.0</td>\n",
       "      <td>81.0</td>\n",
       "      <td>66</td>\n",
       "      <td>81</td>\n",
       "      <td>54</td>\n",
       "    </tr>\n",
       "  </tbody>\n",
       "</table>\n",
       "</div>"
      ],
      "text/plain": [
       "                              Average Math Score Average Reading Score  \\\n",
       "Spending Ranges (Per Student)                                            \n",
       "<$586                                       83.5                  83.9   \n",
       "$586-630                                    81.9                  83.2   \n",
       "$631-645                                    78.5                  81.6   \n",
       "$646-675                                    77.0                  81.0   \n",
       "\n",
       "                              % Passing Math % Passing Reading  \\\n",
       "Spending Ranges (Per Student)                                    \n",
       "<$586                                     93                97   \n",
       "$586-630                                  87                93   \n",
       "$631-645                                  73                84   \n",
       "$646-675                                  66                81   \n",
       "\n",
       "                              % Overall Passing  \n",
       "Spending Ranges (Per Student)                    \n",
       "<$586                                        90  \n",
       "$586-630                                     81  \n",
       "$631-645                                     63  \n",
       "$646-675                                     54  "
      ]
     },
     "execution_count": 314,
     "metadata": {},
     "output_type": "execute_result"
    }
   ],
   "source": [
    "# Formatting\n",
    "spending_summary_df[\"Average Math Score\"] = spending_summary_df[\"Average Math Score\"].map(\"{:.1f}\".format)\n",
    "\n",
    "spending_summary_df[\"Average Reading Score\"] = spending_summary_df[\"Average Reading Score\"].map(\"{:.1f}\".format)\n",
    "\n",
    "spending_summary_df[\"% Passing Math\"] = spending_summary_df[\"% Passing Math\"].map(\"{:.0f}\".format)\n",
    "\n",
    "spending_summary_df[\"% Passing Reading\"] = spending_summary_df[\"% Passing Reading\"].map(\"{:.0f}\".format)\n",
    "\n",
    "spending_summary_df[\"% Overall Passing\"] = spending_summary_df[\"% Overall Passing\"].map(\"{:.0f}\".format)\n",
    "\n",
    "spending_summary_df"
   ]
  },
  {
   "cell_type": "code",
   "execution_count": 316,
   "id": "afea6543",
   "metadata": {},
   "outputs": [],
   "source": [
    "# Establish the bins.\n",
    "size_bins = [0, 999, 1999, 5000]\n",
    "\n",
    "group_names = [\"Small (<1000)\", \"Medium (1000-1999)\", \"Large (2000-5000)\"]"
   ]
  },
  {
   "cell_type": "code",
   "execution_count": 317,
   "id": "abc3ae43",
   "metadata": {},
   "outputs": [
    {
     "data": {
      "text/html": [
       "<div>\n",
       "<style scoped>\n",
       "    .dataframe tbody tr th:only-of-type {\n",
       "        vertical-align: middle;\n",
       "    }\n",
       "\n",
       "    .dataframe tbody tr th {\n",
       "        vertical-align: top;\n",
       "    }\n",
       "\n",
       "    .dataframe thead th {\n",
       "        text-align: right;\n",
       "    }\n",
       "</style>\n",
       "<table border=\"1\" class=\"dataframe\">\n",
       "  <thead>\n",
       "    <tr style=\"text-align: right;\">\n",
       "      <th></th>\n",
       "      <th>School Type</th>\n",
       "      <th>Total Students</th>\n",
       "      <th>Total School Budget</th>\n",
       "      <th>Per Student Budget</th>\n",
       "      <th>Average Math Score</th>\n",
       "      <th>Average Reading Score</th>\n",
       "      <th>% Passing Math</th>\n",
       "      <th>% Passing Reading</th>\n",
       "      <th>% Overall Passing</th>\n",
       "      <th>Spending Ranges (Per Student)</th>\n",
       "      <th>School Size</th>\n",
       "    </tr>\n",
       "  </thead>\n",
       "  <tbody>\n",
       "    <tr>\n",
       "      <th>Bailey High School</th>\n",
       "      <td>District</td>\n",
       "      <td>4976</td>\n",
       "      <td>$3,124,928.00</td>\n",
       "      <td>$628.00</td>\n",
       "      <td>77.048432</td>\n",
       "      <td>81.033963</td>\n",
       "      <td>66.680064</td>\n",
       "      <td>81.933280</td>\n",
       "      <td>54.642283</td>\n",
       "      <td>$586-630</td>\n",
       "      <td>Large (2000-5000)</td>\n",
       "    </tr>\n",
       "    <tr>\n",
       "      <th>Cabrera High School</th>\n",
       "      <td>Charter</td>\n",
       "      <td>1858</td>\n",
       "      <td>$1,081,356.00</td>\n",
       "      <td>$582.00</td>\n",
       "      <td>83.061895</td>\n",
       "      <td>83.975780</td>\n",
       "      <td>94.133477</td>\n",
       "      <td>97.039828</td>\n",
       "      <td>91.334769</td>\n",
       "      <td>&lt;$586</td>\n",
       "      <td>Medium (1000-1999)</td>\n",
       "    </tr>\n",
       "    <tr>\n",
       "      <th>Figueroa High School</th>\n",
       "      <td>District</td>\n",
       "      <td>2949</td>\n",
       "      <td>$1,884,411.00</td>\n",
       "      <td>$639.00</td>\n",
       "      <td>76.711767</td>\n",
       "      <td>81.158020</td>\n",
       "      <td>65.988471</td>\n",
       "      <td>80.739234</td>\n",
       "      <td>53.204476</td>\n",
       "      <td>$631-645</td>\n",
       "      <td>Large (2000-5000)</td>\n",
       "    </tr>\n",
       "    <tr>\n",
       "      <th>Ford High School</th>\n",
       "      <td>District</td>\n",
       "      <td>2739</td>\n",
       "      <td>$1,763,916.00</td>\n",
       "      <td>$644.00</td>\n",
       "      <td>77.102592</td>\n",
       "      <td>80.746258</td>\n",
       "      <td>68.309602</td>\n",
       "      <td>79.299014</td>\n",
       "      <td>54.289887</td>\n",
       "      <td>$631-645</td>\n",
       "      <td>Large (2000-5000)</td>\n",
       "    </tr>\n",
       "    <tr>\n",
       "      <th>Griffin High School</th>\n",
       "      <td>Charter</td>\n",
       "      <td>1468</td>\n",
       "      <td>$917,500.00</td>\n",
       "      <td>$625.00</td>\n",
       "      <td>83.351499</td>\n",
       "      <td>83.816757</td>\n",
       "      <td>93.392371</td>\n",
       "      <td>97.138965</td>\n",
       "      <td>90.599455</td>\n",
       "      <td>$586-630</td>\n",
       "      <td>Medium (1000-1999)</td>\n",
       "    </tr>\n",
       "  </tbody>\n",
       "</table>\n",
       "</div>"
      ],
      "text/plain": [
       "                     School Type  Total Students Total School Budget  \\\n",
       "Bailey High School      District            4976       $3,124,928.00   \n",
       "Cabrera High School      Charter            1858       $1,081,356.00   \n",
       "Figueroa High School    District            2949       $1,884,411.00   \n",
       "Ford High School        District            2739       $1,763,916.00   \n",
       "Griffin High School      Charter            1468         $917,500.00   \n",
       "\n",
       "                     Per Student Budget  Average Math Score  \\\n",
       "Bailey High School              $628.00           77.048432   \n",
       "Cabrera High School             $582.00           83.061895   \n",
       "Figueroa High School            $639.00           76.711767   \n",
       "Ford High School                $644.00           77.102592   \n",
       "Griffin High School             $625.00           83.351499   \n",
       "\n",
       "                      Average Reading Score  % Passing Math  \\\n",
       "Bailey High School                81.033963       66.680064   \n",
       "Cabrera High School               83.975780       94.133477   \n",
       "Figueroa High School              81.158020       65.988471   \n",
       "Ford High School                  80.746258       68.309602   \n",
       "Griffin High School               83.816757       93.392371   \n",
       "\n",
       "                      % Passing Reading  % Overall Passing  \\\n",
       "Bailey High School            81.933280          54.642283   \n",
       "Cabrera High School           97.039828          91.334769   \n",
       "Figueroa High School          80.739234          53.204476   \n",
       "Ford High School              79.299014          54.289887   \n",
       "Griffin High School           97.138965          90.599455   \n",
       "\n",
       "                     Spending Ranges (Per Student)         School Size  \n",
       "Bailey High School                        $586-630   Large (2000-5000)  \n",
       "Cabrera High School                          <$586  Medium (1000-1999)  \n",
       "Figueroa High School                      $631-645   Large (2000-5000)  \n",
       "Ford High School                          $631-645   Large (2000-5000)  \n",
       "Griffin High School                       $586-630  Medium (1000-1999)  "
      ]
     },
     "execution_count": 317,
     "metadata": {},
     "output_type": "execute_result"
    }
   ],
   "source": [
    "# Categorize spending based on the bins.\n",
    "per_school_summary_df[\"School Size\"] = pd.cut(per_school_summary_df[\"Total Students\"], size_bins, labels=group_names)\n",
    "\n",
    "per_school_summary_df.head()"
   ]
  },
  {
   "cell_type": "code",
   "execution_count": 323,
   "id": "665e89c0",
   "metadata": {},
   "outputs": [
    {
     "data": {
      "text/html": [
       "<div>\n",
       "<style scoped>\n",
       "    .dataframe tbody tr th:only-of-type {\n",
       "        vertical-align: middle;\n",
       "    }\n",
       "\n",
       "    .dataframe tbody tr th {\n",
       "        vertical-align: top;\n",
       "    }\n",
       "\n",
       "    .dataframe thead th {\n",
       "        text-align: right;\n",
       "    }\n",
       "</style>\n",
       "<table border=\"1\" class=\"dataframe\">\n",
       "  <thead>\n",
       "    <tr style=\"text-align: right;\">\n",
       "      <th></th>\n",
       "      <th>Average Math Score</th>\n",
       "      <th>Average Reading Score</th>\n",
       "      <th>% Passing Math</th>\n",
       "      <th>% Passing Reading</th>\n",
       "      <th>% Overall Passing</th>\n",
       "    </tr>\n",
       "    <tr>\n",
       "      <th>School Size</th>\n",
       "      <th></th>\n",
       "      <th></th>\n",
       "      <th></th>\n",
       "      <th></th>\n",
       "      <th></th>\n",
       "    </tr>\n",
       "  </thead>\n",
       "  <tbody>\n",
       "    <tr>\n",
       "      <th>Small (&lt;1000)</th>\n",
       "      <td>83.8</td>\n",
       "      <td>83.9</td>\n",
       "      <td>94</td>\n",
       "      <td>96</td>\n",
       "      <td>90</td>\n",
       "    </tr>\n",
       "    <tr>\n",
       "      <th>Medium (1000-1999)</th>\n",
       "      <td>83.4</td>\n",
       "      <td>83.9</td>\n",
       "      <td>94</td>\n",
       "      <td>97</td>\n",
       "      <td>91</td>\n",
       "    </tr>\n",
       "    <tr>\n",
       "      <th>Large (2000-5000)</th>\n",
       "      <td>77.7</td>\n",
       "      <td>81.3</td>\n",
       "      <td>70</td>\n",
       "      <td>83</td>\n",
       "      <td>58</td>\n",
       "    </tr>\n",
       "  </tbody>\n",
       "</table>\n",
       "</div>"
      ],
      "text/plain": [
       "                   Average Math Score Average Reading Score % Passing Math  \\\n",
       "School Size                                                                  \n",
       "Small (<1000)                    83.8                  83.9             94   \n",
       "Medium (1000-1999)               83.4                  83.9             94   \n",
       "Large (2000-5000)                77.7                  81.3             70   \n",
       "\n",
       "                   % Passing Reading % Overall Passing  \n",
       "School Size                                             \n",
       "Small (<1000)                     96                90  \n",
       "Medium (1000-1999)                97                91  \n",
       "Large (2000-5000)                 83                58  "
      ]
     },
     "execution_count": 323,
     "metadata": {},
     "output_type": "execute_result"
    }
   ],
   "source": [
    "# Calculate averages for the desired columns.\n",
    "size_math_scores = per_school_summary_df.groupby([\"School Size\"]).mean()[\"Average Math Score\"]\n",
    "\n",
    "size_reading_scores = per_school_summary_df.groupby([\"School Size\"]).mean()[\"Average Reading Score\"]\n",
    "\n",
    "size_passing_math = per_school_summary_df.groupby([\"School Size\"]).mean()[\"% Passing Math\"]\n",
    "\n",
    "size_passing_reading = per_school_summary_df.groupby([\"School Size\"]).mean()[\"% Passing Reading\"]\n",
    "\n",
    "size_overall_passing = per_school_summary_df.groupby([\"School Size\"]).mean()[\"% Overall Passing\"]\n",
    "\n",
    "# Assemble into DataFrame.\n",
    "size_summary_df = pd.DataFrame({ \n",
    "    \"Average Math Score\": size_math_scores, \"Average Reading Score\": size_reading_scores,\n",
    "    \"% Passing Math\": size_passing_math, \"% Passing Reading\": size_passing_reading,\n",
    "    \"% Overall Passing\": size_overall_passing})\n",
    "\n",
    "# Formatting.\n",
    "size_summary_df[\"Average Math Score\"] = size_summary_df[\"Average Math Score\"].map(\"{:.1f}\".format)\n",
    "size_summary_df[\"Average Reading Score\"] = size_summary_df[\"Average Reading Score\"].map(\"{:.1f}\".format)\n",
    "size_summary_df[\"% Passing Math\"] = size_summary_df[\"% Passing Math\"].map(\"{:.0f}\".format)\n",
    "size_summary_df[\"% Passing Reading\"] = size_summary_df[\"% Passing Reading\"].map(\"{:.0f}\".format)\n",
    "size_summary_df[\"% Overall Passing\"] = size_summary_df[\"% Overall Passing\"].map(\"{:.0f}\".format)\n",
    "\n",
    "size_summary_df"
   ]
  },
  {
   "cell_type": "code",
   "execution_count": 324,
   "id": "25e514ca",
   "metadata": {},
   "outputs": [],
   "source": [
    "# Calculate averages for the desired columns.\n",
    "type_math_scores = per_school_summary_df.groupby([\"School Type\"]).mean()[\"Average Math Score\"]\n",
    "\n",
    "type_reading_scores = per_school_summary_df.groupby([\"School Type\"]).mean()[\"Average Reading Score\"]\n",
    "\n",
    "type_passing_math = per_school_summary_df.groupby([\"School Type\"]).mean()[\"% Passing Math\"]\n",
    "\n",
    "type_passing_reading = per_school_summary_df.groupby([\"School Type\"]).mean()[\"% Passing Reading\"]\n",
    "\n",
    "type_overall_passing = per_school_summary_df.groupby([\"School Type\"]).mean()[\"% Overall Passing\"]"
   ]
  },
  {
   "cell_type": "code",
   "execution_count": 327,
   "id": "ae766185",
   "metadata": {},
   "outputs": [
    {
     "data": {
      "text/html": [
       "<div>\n",
       "<style scoped>\n",
       "    .dataframe tbody tr th:only-of-type {\n",
       "        vertical-align: middle;\n",
       "    }\n",
       "\n",
       "    .dataframe tbody tr th {\n",
       "        vertical-align: top;\n",
       "    }\n",
       "\n",
       "    .dataframe thead th {\n",
       "        text-align: right;\n",
       "    }\n",
       "</style>\n",
       "<table border=\"1\" class=\"dataframe\">\n",
       "  <thead>\n",
       "    <tr style=\"text-align: right;\">\n",
       "      <th></th>\n",
       "      <th>Average Math Score</th>\n",
       "      <th>Average Reading Score</th>\n",
       "      <th>% Passing Math</th>\n",
       "      <th>% Passing Reading</th>\n",
       "      <th>% Overall Passing</th>\n",
       "    </tr>\n",
       "    <tr>\n",
       "      <th>School Type</th>\n",
       "      <th></th>\n",
       "      <th></th>\n",
       "      <th></th>\n",
       "      <th></th>\n",
       "      <th></th>\n",
       "    </tr>\n",
       "  </thead>\n",
       "  <tbody>\n",
       "    <tr>\n",
       "      <th>Charter</th>\n",
       "      <td>83.5</td>\n",
       "      <td>83.9</td>\n",
       "      <td>94</td>\n",
       "      <td>97</td>\n",
       "      <td>90</td>\n",
       "    </tr>\n",
       "    <tr>\n",
       "      <th>District</th>\n",
       "      <td>77.0</td>\n",
       "      <td>81.0</td>\n",
       "      <td>67</td>\n",
       "      <td>81</td>\n",
       "      <td>54</td>\n",
       "    </tr>\n",
       "  </tbody>\n",
       "</table>\n",
       "</div>"
      ],
      "text/plain": [
       "            Average Math Score Average Reading Score % Passing Math  \\\n",
       "School Type                                                           \n",
       "Charter                   83.5                  83.9             94   \n",
       "District                  77.0                  81.0             67   \n",
       "\n",
       "            % Passing Reading % Overall Passing  \n",
       "School Type                                      \n",
       "Charter                    97                90  \n",
       "District                   81                54  "
      ]
     },
     "execution_count": 327,
     "metadata": {},
     "output_type": "execute_result"
    }
   ],
   "source": [
    "# Assemble into DataFrame.\n",
    "type_summary_df = pd.DataFrame({\n",
    "    \"Average Math Score\": type_math_scores, \"Average Reading Score\": type_reading_scores,\n",
    "    \"% Passing Math\": type_passing_math, \"% Passing Reading\": type_passing_reading,\n",
    "    \"% Overall Passing\": type_overall_passing})\n",
    "\n",
    "# Formatting\n",
    "type_summary_df[\"Average Math Score\"] = type_summary_df[\"Average Math Score\"].map(\"{:.1f}\".format)\n",
    "\n",
    "type_summary_df[\"Average Reading Score\"] = type_summary_df[\"Average Reading Score\"].map(\"{:.1f}\".format)\n",
    "\n",
    "type_summary_df[\"% Passing Math\"] = type_summary_df[\"% Passing Math\"].map(\"{:.0f}\".format)\n",
    "\n",
    "type_summary_df[\"% Passing Reading\"] = type_summary_df[\"% Passing Reading\"].map(\"{:.0f}\".format)\n",
    "\n",
    "type_summary_df[\"% Overall Passing\"] = type_summary_df[\"% Overall Passing\"].map(\"{:.0f}\".format)\n",
    "\n",
    "type_summary_df"
   ]
  },
  {
   "cell_type": "code",
   "execution_count": null,
   "id": "fc340a2f",
   "metadata": {},
   "outputs": [],
   "source": []
  }
 ],
 "metadata": {
  "kernelspec": {
   "display_name": "PythonData",
   "language": "python",
   "name": "pythondata"
  },
  "language_info": {
   "codemirror_mode": {
    "name": "ipython",
    "version": 3
   },
   "file_extension": ".py",
   "mimetype": "text/x-python",
   "name": "python",
   "nbconvert_exporter": "python",
   "pygments_lexer": "ipython3",
   "version": "3.9.12"
  }
 },
 "nbformat": 4,
 "nbformat_minor": 5
}
